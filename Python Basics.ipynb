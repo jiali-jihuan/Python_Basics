{
 "cells": [
  {
   "cell_type": "markdown",
   "metadata": {},
   "source": [
    "### Python Basics"
   ]
  },
  {
   "cell_type": "code",
   "execution_count": 36,
   "metadata": {},
   "outputs": [],
   "source": [
    "import numpy as np"
   ]
  },
  {
   "cell_type": "code",
   "execution_count": 37,
   "metadata": {},
   "outputs": [
    {
     "name": "stdout",
     "output_type": "stream",
     "text": [
      "0\n",
      "16\n",
      "8\n",
      "2.0\n",
      "6\n",
      "2\n"
     ]
    }
   ],
   "source": [
    "# common operations\n",
    "\n",
    "x = 4\n",
    "y = 2\n",
    "\n",
    "print(x%y)    # remainder\n",
    "\n",
    "# listed by precedence, unless parenthesis\n",
    "\n",
    "print(x**y)   # power\n",
    "print(x*y)    # multiplication\n",
    "print(x/y)    # division\n",
    "print(x+y)    # addition\n",
    "print(x-y)    # subtraction\n"
   ]
  },
  {
   "cell_type": "code",
   "execution_count": 38,
   "metadata": {},
   "outputs": [
    {
     "name": "stdout",
     "output_type": "stream",
     "text": [
      "hello world apple\n",
      "hello worldhello world\n",
      "11\n",
      "5\n",
      "h\n",
      "hel\n",
      "hello world\n",
      "d\n",
      "dlrow olleh\n",
      "el \n"
     ]
    }
   ],
   "source": [
    "# strings and manipulations (strings are immutable)\n",
    "\n",
    "h = 'hello world'\n",
    "food = 'apple'\n",
    "\n",
    "print(h+' '+food)\n",
    "print(h*2)\n",
    "print(len(h))  # note it takes into account spaces\n",
    "print(len(food))\n",
    "print(h[0])    #slicing\n",
    "print(h[0:3])\n",
    "print(h[:])\n",
    "print(h[-1])\n",
    "print(h[::-1])  # slicing with skips\n",
    "print(h[1:7:2])"
   ]
  },
  {
   "cell_type": "code",
   "execution_count": 39,
   "metadata": {},
   "outputs": [
    {
     "name": "stdout",
     "output_type": "stream",
     "text": [
      "True\n",
      "True\n",
      "False\n",
      "False\n",
      "False\n",
      "True\n"
     ]
    }
   ],
   "source": [
    "# comparison operators\n",
    "\n",
    "x = 4\n",
    "y = 2\n",
    "\n",
    "print(x > y)    \n",
    "print(x >= y)  # greater than or equal to\n",
    "print(x < y)\n",
    "print(x <= y)  # less than or equal to\n",
    "print(x == y)  # is equal to\n",
    "print(x != y)  # is not equal to"
   ]
  },
  {
   "cell_type": "code",
   "execution_count": 64,
   "metadata": {},
   "outputs": [
    {
     "name": "stdout",
     "output_type": "stream",
     "text": [
      "[[63 56 74]\n",
      " [46 92 66]]\n"
     ]
    }
   ],
   "source": [
    "# data structure types\n",
    "\n",
    "a = (1,2,3,4)   #tuple, immutable , parenthesis\n",
    "b = [1,2,3,4]   #list, mutable, brackets\n",
    "c = 1,2,3,4, 'pet'     #strings, no enclosure\n",
    "d = {'Ana': 'one', 'James': 2, 'Carl':'three'}   #dictionary key, value pairs, curly brackets\n",
    "e = np.random.randint(100, size=(2, 3))    #matrix, array of arrays\n",
    "print(e)"
   ]
  },
  {
   "cell_type": "code",
   "execution_count": 65,
   "metadata": {},
   "outputs": [
    {
     "name": "stdout",
     "output_type": "stream",
     "text": [
      "1\n",
      "2\n",
      "3\n",
      "4\n",
      "1\n",
      "2\n",
      "3\n",
      "4\n",
      "1\n",
      "2\n",
      "3\n",
      "4\n",
      "pet\n",
      "Ana\n",
      "James\n",
      "Carl\n",
      "[63 56 74]\n",
      "[46 92 66]\n"
     ]
    }
   ],
   "source": [
    "#iterations\n",
    "\n",
    "for i in a:\n",
    "    print(i)\n",
    "    \n",
    "for i in b:\n",
    "    print(i)\n",
    "    \n",
    "for i in c:\n",
    "    print(i)\n",
    "    \n",
    "for index in d:        # could also print index,values\n",
    "    print(index)\n",
    "    \n",
    "for i in e:\n",
    "    print(i)"
   ]
  },
  {
   "cell_type": "code",
   "execution_count": 66,
   "metadata": {},
   "outputs": [
    {
     "name": "stdout",
     "output_type": "stream",
     "text": [
      "2\n",
      "1\n",
      "one\n",
      "63\n"
     ]
    }
   ],
   "source": [
    "# indexing starts at 0\n",
    "\n",
    "print(a[1])   #list/tuples same index\n",
    "print(b[0])   #list/tuples same index\n",
    "print(d.get('Ana'))  #index by keys\n",
    "print(e[0,0])        # stipulat row,column"
   ]
  },
  {
   "cell_type": "code",
   "execution_count": 67,
   "metadata": {},
   "outputs": [
    {
     "name": "stdout",
     "output_type": "stream",
     "text": [
      "1\n",
      "0\n",
      "['Ana']\n",
      "(array([], dtype=int64), array([], dtype=int64))\n"
     ]
    }
   ],
   "source": [
    "# reverse index, get index of values\n",
    "\n",
    "print(a.index(2))\n",
    "print(b.index(1))\n",
    "print([k for k,v in d.items() if v == 'one'])      #dictionaries need list comprehension to get index by values\n",
    "index = np.where(e==15)  #use np.where\n",
    "print(index)"
   ]
  },
  {
   "cell_type": "code",
   "execution_count": 68,
   "metadata": {},
   "outputs": [
    {
     "ename": "TypeError",
     "evalue": "'tuple' object does not support item assignment",
     "output_type": "error",
     "traceback": [
      "\u001b[1;31m---------------------------------------------------------------------------\u001b[0m",
      "\u001b[1;31mTypeError\u001b[0m                                 Traceback (most recent call last)",
      "\u001b[1;32m<ipython-input-68-6e6b68e55282>\u001b[0m in \u001b[0;36m<module>\u001b[1;34m\u001b[0m\n\u001b[0;32m      1\u001b[0m \u001b[1;31m# tuples are immutable\u001b[0m\u001b[1;33m\u001b[0m\u001b[1;33m\u001b[0m\u001b[1;33m\u001b[0m\u001b[0m\n\u001b[0;32m      2\u001b[0m \u001b[1;33m\u001b[0m\u001b[0m\n\u001b[1;32m----> 3\u001b[1;33m \u001b[0ma\u001b[0m\u001b[1;33m[\u001b[0m\u001b[1;36m0\u001b[0m\u001b[1;33m]\u001b[0m \u001b[1;33m=\u001b[0m \u001b[1;36m1\u001b[0m\u001b[1;33m\u001b[0m\u001b[1;33m\u001b[0m\u001b[0m\n\u001b[0m",
      "\u001b[1;31mTypeError\u001b[0m: 'tuple' object does not support item assignment"
     ]
    }
   ],
   "source": [
    "# tuples are immutable \n",
    "\n",
    "a[0] = 1"
   ]
  },
  {
   "cell_type": "code",
   "execution_count": 69,
   "metadata": {},
   "outputs": [
    {
     "name": "stdout",
     "output_type": "stream",
     "text": [
      "5\n"
     ]
    }
   ],
   "source": [
    "# list of lists evaluation\n",
    "\n",
    "l = [1,2,3,4,[5,6,7]]   # inside the brackets count as 1\n",
    "print(len(l))"
   ]
  },
  {
   "cell_type": "code",
   "execution_count": 70,
   "metadata": {},
   "outputs": [
    {
     "name": "stdout",
     "output_type": "stream",
     "text": [
      "[5, 2, 3, 4]\n",
      "[5, 2, 3, 4, 9]\n",
      "[5, 3, 4, 9]\n",
      "[3, 4, 9]\n"
     ]
    },
    {
     "data": {
      "text/plain": [
       "9"
      ]
     },
     "execution_count": 70,
     "metadata": {},
     "output_type": "execute_result"
    }
   ],
   "source": [
    "# lists are mutable, it will change your original assignment (mutation)\n",
    "\n",
    "b[0] = 5\n",
    "print(b)\n",
    "\n",
    "# list operations\n",
    "\n",
    "b.append(9) # can also use extend\n",
    "print(b)\n",
    "\n",
    "del b[1] # delete by index\n",
    "print(b)\n",
    "\n",
    "b.remove(5)  # delete by element\n",
    "print(b)\n",
    "\n",
    "b.pop()  # delete last element, return deleted value"
   ]
  },
  {
   "cell_type": "code",
   "execution_count": 78,
   "metadata": {},
   "outputs": [
    {
     "name": "stdout",
     "output_type": "stream",
     "text": [
      "['d', 'o', 'g']\n",
      "dog\n",
      "d_o_g\n"
     ]
    }
   ],
   "source": [
    "# list/string conversion\n",
    " \n",
    "s = 'dog'     # s is a string\n",
    "sl = list(s)  # sl is a list\n",
    "print(sl)\n",
    "\n",
    "print(''.join(sl))    # returns string\n",
    "print('_'.join(sl))\n"
   ]
  },
  {
   "cell_type": "code",
   "execution_count": 93,
   "metadata": {},
   "outputs": [
    {
     "name": "stdout",
     "output_type": "stream",
     "text": [
      "[40, 59, 60, 100]\n",
      "[100, 59, 40, 60]\n",
      "[40, 59, 60, 100]\n",
      "[100, 60, 59, 40]\n",
      "[1, 2, 3, 4]\n"
     ]
    }
   ],
   "source": [
    "# list operations\n",
    "\n",
    "w = [100,59,40,60] \n",
    "print(sorted(w))             #sorted does not mutate \n",
    "print(w)\n",
    "\n",
    "\n",
    "# following will mutate, mutation will return NONE when called\n",
    "\n",
    "w.sort()\n",
    "print(w)\n",
    "\n",
    "w.reverse()\n",
    "print(w)\n",
    "\n",
    "\n",
    "# clone list\n",
    "\n",
    "b = [1,2,3,4]\n",
    "b_clone = b.copy()     # can also use b_clone = b[:]\n",
    "print(b_clone)\n"
   ]
  },
  {
   "cell_type": "code",
   "execution_count": 42,
   "metadata": {},
   "outputs": [
    {
     "name": "stdout",
     "output_type": "stream",
     "text": [
      "2\n",
      "[[     625  7890481 84934656]\n",
      " [15752961 78074896  2560000]]\n",
      "[(1, 1), (2, 2), (3, 3), (4, 4)]\n",
      "0 Ana\n",
      "1 James\n",
      "2 Carl\n"
     ]
    }
   ],
   "source": [
    "# more iterations\n",
    "\n",
    "for i in a:\n",
    "    if i == 3:\n",
    "        print(a.index(i))\n",
    "        \n",
    "\n",
    "        \n",
    "power_four = lambda x: (x**4)\n",
    "print(power_four(e))\n",
    "\n",
    "\n",
    "z = zip(a,b)\n",
    "print(list(z))\n",
    "\n",
    "\n",
    "for i, value in enumerate(d):   #enumerate replace indexing to the [0] row\n",
    "    print(i, value)"
   ]
  },
  {
   "cell_type": "code",
   "execution_count": 101,
   "metadata": {},
   "outputs": [
    {
     "ename": "TypeError",
     "evalue": "unsupported operand type(s) for +: 'int' and 'str'",
     "output_type": "error",
     "traceback": [
      "\u001b[1;31m---------------------------------------------------------------------------\u001b[0m",
      "\u001b[1;31mTypeError\u001b[0m                                 Traceback (most recent call last)",
      "\u001b[1;32m<ipython-input-101-c17a1c20d006>\u001b[0m in \u001b[0;36m<module>\u001b[1;34m\u001b[0m\n\u001b[0;32m      3\u001b[0m \u001b[0ma\u001b[0m \u001b[1;33m=\u001b[0m \u001b[1;36m5\u001b[0m\u001b[1;33m\u001b[0m\u001b[1;33m\u001b[0m\u001b[0m\n\u001b[0;32m      4\u001b[0m \u001b[0mb\u001b[0m \u001b[1;33m=\u001b[0m \u001b[1;34m'two'\u001b[0m\u001b[1;33m\u001b[0m\u001b[1;33m\u001b[0m\u001b[0m\n\u001b[1;32m----> 5\u001b[1;33m \u001b[0mprint\u001b[0m\u001b[1;33m(\u001b[0m\u001b[0ma\u001b[0m\u001b[1;33m+\u001b[0m\u001b[0mb\u001b[0m\u001b[1;33m)\u001b[0m   \u001b[1;31m#regular error message\u001b[0m\u001b[1;33m\u001b[0m\u001b[1;33m\u001b[0m\u001b[0m\n\u001b[0m",
      "\u001b[1;31mTypeError\u001b[0m: unsupported operand type(s) for +: 'int' and 'str'"
     ]
    }
   ],
   "source": [
    "# exceptions\n",
    "\n",
    "a = 5\n",
    "b = 'two'\n",
    "print(a+b)   #regular error message"
   ]
  },
  {
   "cell_type": "code",
   "execution_count": 103,
   "metadata": {},
   "outputs": [
    {
     "name": "stdout",
     "output_type": "stream",
     "text": [
      "Bug in user input.\n"
     ]
    }
   ],
   "source": [
    "try:\n",
    "    a = 5\n",
    "    b = 'two'\n",
    "    print(a+b)\n",
    "    \n",
    "except:\n",
    "    print(\"Bug in user input.\")  # replace error message with out own"
   ]
  }
 ],
 "metadata": {
  "kernelspec": {
   "display_name": "Python 3",
   "language": "python",
   "name": "python3"
  },
  "language_info": {
   "codemirror_mode": {
    "name": "ipython",
    "version": 3
   },
   "file_extension": ".py",
   "mimetype": "text/x-python",
   "name": "python",
   "nbconvert_exporter": "python",
   "pygments_lexer": "ipython3",
   "version": "3.7.3"
  }
 },
 "nbformat": 4,
 "nbformat_minor": 4
}
