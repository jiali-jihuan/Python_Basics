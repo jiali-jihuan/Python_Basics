{
 "cells": [
  {
   "cell_type": "code",
   "execution_count": 54,
   "metadata": {},
   "outputs": [],
   "source": [
    "import numpy as np"
   ]
  },
  {
   "cell_type": "code",
   "execution_count": 81,
   "metadata": {},
   "outputs": [
    {
     "name": "stdout",
     "output_type": "stream",
     "text": [
      "[[76 84 49]\n",
      " [ 9 92 75]]\n"
     ]
    }
   ],
   "source": [
    "# data structure types\n",
    "\n",
    "a = (1,2,3,4)   #tuple, mutable , parenthesis\n",
    "b = [1,2,3,4]   #list, immutable, brackets\n",
    "c = 1,2,3,4, 'pet'     #strings, no enclosure\n",
    "d = {'Ana': 'one', 'James': 2, 'Carl':'three'}   #dictionary key, value pairs, curly brackets\n",
    "e = np.random.randint(100, size=(2, 3))    #matrix, array of arrays\n",
    "print(e)"
   ]
  },
  {
   "cell_type": "code",
   "execution_count": 63,
   "metadata": {},
   "outputs": [
    {
     "name": "stdout",
     "output_type": "stream",
     "text": [
      "2\n",
      "1\n",
      "one\n",
      "0.17498741505228033\n"
     ]
    }
   ],
   "source": [
    "# indexing starts at 0\n",
    "\n",
    "print(a[1])   #list/tuples same index\n",
    "print(b[0])   #list/tuples same index\n",
    "print(d.get('Ana'))  #index by keys\n",
    "print(e[0,0])        # stipulat row,column"
   ]
  },
  {
   "cell_type": "code",
   "execution_count": 80,
   "metadata": {},
   "outputs": [
    {
     "name": "stdout",
     "output_type": "stream",
     "text": [
      "1\n",
      "0\n",
      "['Ana']\n",
      "(array([0, 0], dtype=int64), array([0, 2], dtype=int64))\n"
     ]
    }
   ],
   "source": [
    "# reverse index, get index of values\n",
    "\n",
    "print(a.index(2))\n",
    "print(b.index(1))\n",
    "print([k for k,v in d.items() if v == 'one'])      #dictionaries need list comprehension to get index by values\n",
    "index = np.where(e==15)  #use np.where\n",
    "print(index)"
   ]
  },
  {
   "cell_type": "code",
   "execution_count": 126,
   "metadata": {},
   "outputs": [
    {
     "name": "stdout",
     "output_type": "stream",
     "text": [
      "(1, 2, 3, 4, 1, 2, 3, 4)\n",
      "[1, 2, 3, 4, 1, 2, 3, 4]\n",
      "{'Ana': 'one', 'James': 2, 'Carl': 'three', 'new': 3}\n",
      "[[152 168  98]\n",
      " [ 18 184 150]]\n",
      "[[38.  42.  24.5]\n",
      " [ 4.5 46.  37.5]]\n",
      "[[78 86 51]\n",
      " [11 94 73]]\n",
      "[[15233 12087]\n",
      " [12087 14170]]\n"
     ]
    }
   ],
   "source": [
    "#transformations/mutations\n",
    "\n",
    "print(a*2)   # tuple cannot subtract/add/divide by int with common notations, but can remove/replace\n",
    "print(b*2)   # list cannot subtract/add/divide by int with common notations, list are immutable so no mutations\n",
    "d['new'] = 3 # can remove item using del d['key'] , or d.pop('key')\n",
    "print(d)\n",
    "print(e*2)   #matrix multiplications inline with common operators\n",
    "print(e/2)\n",
    "print(e^2)\n",
    "print(e.dot(e.T))"
   ]
  },
  {
   "cell_type": "code",
   "execution_count": 114,
   "metadata": {},
   "outputs": [
    {
     "name": "stdout",
     "output_type": "stream",
     "text": [
      "1\n",
      "2\n",
      "3\n",
      "4\n",
      "1\n",
      "2\n",
      "3\n",
      "4\n",
      "1\n",
      "2\n",
      "3\n",
      "4\n",
      "pet\n",
      "Ana\n",
      "James\n",
      "Carl\n",
      "new\n",
      "[76 84 49]\n",
      "[ 9 92 75]\n"
     ]
    }
   ],
   "source": [
    "#iterations\n",
    "\n",
    "for i in a:\n",
    "    print(i)\n",
    "    \n",
    "for i in b:\n",
    "    print(i)\n",
    "    \n",
    "for i in c:\n",
    "    print(i)\n",
    "    \n",
    "for index in d:        # could also print index,values\n",
    "    print(index)\n",
    "    \n",
    "for i in e:\n",
    "    print(i)"
   ]
  },
  {
   "cell_type": "code",
   "execution_count": 136,
   "metadata": {},
   "outputs": [
    {
     "name": "stdout",
     "output_type": "stream",
     "text": [
      "2\n",
      "[[33362176 49787136  5764801]\n",
      " [    6561 71639296 31640625]]\n",
      "[(1, 1), (2, 2), (3, 3), (4, 4)]\n",
      "0 Ana\n",
      "1 James\n",
      "2 Carl\n",
      "3 new\n"
     ]
    }
   ],
   "source": [
    "# more iterations\n",
    "\n",
    "for i in a:\n",
    "    if i == 3:\n",
    "        print(a.index(i))\n",
    "        \n",
    "\n",
    "        \n",
    "power_four = lambda x: (x**4)\n",
    "print(power_four(e))\n",
    "\n",
    "\n",
    "z = zip(a,b)\n",
    "print(list(z))\n",
    "\n",
    "\n",
    "for i, value in enumerate(d):   #enumerate replace indexing to the [0] row\n",
    "    print(i, value)"
   ]
  }
 ],
 "metadata": {
  "kernelspec": {
   "display_name": "Python 3",
   "language": "python",
   "name": "python3"
  },
  "language_info": {
   "codemirror_mode": {
    "name": "ipython",
    "version": 3
   },
   "file_extension": ".py",
   "mimetype": "text/x-python",
   "name": "python",
   "nbconvert_exporter": "python",
   "pygments_lexer": "ipython3",
   "version": "3.7.3"
  }
 },
 "nbformat": 4,
 "nbformat_minor": 4
}
